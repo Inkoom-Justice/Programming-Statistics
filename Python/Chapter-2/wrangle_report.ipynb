{
 "cells": [
  {
   "cell_type": "markdown",
   "metadata": {},
   "source": [
    "## Reporting: wragle_report\n",
    "\n",
    "The task was to create a master dataframe that was clean so we can analyze and visualize some of its contents.\n",
    "\n",
    "I achieved this by first gathering the data from three diffent sources as instructed by the project page.\n",
    "\n",
    "Loading the dataset twitter-archive-enhanced.csv that was provided.\n",
    "Getting the dataset image_predictions.tsv that was hosted in the Udacity's servers by programmatically downloading it using the Requests library and the URL: https://d17h27t6h515a5.cloudfront.net/topher/2017/August/599fd2ad_image-predictions/image-predictions.tsv\n",
    "I had a problem importing tweepy library so I ended up using the json text file alternative that was provided on one of the project pages.\n",
    "I then assessed the data both visually and programmatically checking for any anormalities in the datasets, that is, any quality issues and tidiness issued that could not be used in the exploratory data analysis and the visualizations and this is what I observed:\n",
    "\n",
    "Regarding the Quality issues;\n",
    "1. some columns contained a lot of missing data in twitter-archive-enhanced.csv.\n",
    "\n",
    "2. some columns in twitter-archive-enhanced.csv were irrelevant to my analysis.\n",
    "\n",
    "3. Change tweet_id from an integer to a string (twitter-archive-enhanced.csv).\n",
    "\n",
    "4. Timestamp column is not of datetime format (twitter-archive-enhanced.csv).\n",
    "\n",
    "5. Wrong Datatype img_num Column should be in string (image-prediction.tsv).\n",
    "\n",
    "6. Change numerator and denominator datatype to float in twitter dataset (twitter-archive-enhanced.csv).\n",
    "\n",
    "7. Correct column containing invalid names (twitter-archive-enhanced.csv).\n",
    "\n",
    "8. Create a column called rating to standardize the ratings (twitter-archive-enhanced.csv).\n",
    "\n",
    "Regarding the Tidiness issues;\n",
    "1. Merge the dog columns into one.\n",
    "\n",
    "2. Merge the three datasets into a big data (master data).\n",
    "I then used code to clean the three datasets and combined them with the twitter-archive-enhanced dataset serving as the primary dataset, and saved the dataset as a csv file. Later, I examined the newly acquired data using this dataset and created several visualizations using it. This is what I learnt through the method stated above:\n",
    "\n",
    "* Most of the dogs were puppers.\n",
    "\n",
    "* Most of the tweets were sent from an iPhone.\n",
    "\n",
    "* Most of the dog breeds were predicted using the first image or image 1.\n",
    "\n",
    "* The highest rating of 2.7 was received by a pupper dog type.\n",
    "* There is a positive correlation between favorite_count and retweet_count which means as a dog post is retweeted more, its favorite counts also increase."
   ]
  },
  {
   "cell_type": "code",
   "execution_count": null,
   "metadata": {},
   "outputs": [],
   "source": []
  }
 ],
 "metadata": {
  "kernelspec": {
   "display_name": "Python 3 (ipykernel)",
   "language": "python",
   "name": "python3"
  },
  "language_info": {
   "codemirror_mode": {
    "name": "ipython",
    "version": 3
   },
   "file_extension": ".py",
   "mimetype": "text/x-python",
   "name": "python",
   "nbconvert_exporter": "python",
   "pygments_lexer": "ipython3",
   "version": "3.9.7"
  }
 },
 "nbformat": 4,
 "nbformat_minor": 2
}
